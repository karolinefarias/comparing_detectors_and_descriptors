{
 "cells": [
  {
   "cell_type": "markdown",
   "metadata": {},
   "source": [
    "# Testando Detectores"
   ]
  },
  {
   "cell_type": "code",
   "execution_count": 1,
   "metadata": {},
   "outputs": [],
   "source": [
    "import cv2\n",
    "import numpy as np\n",
    "import pandas as pd\n",
    "import itertools"
   ]
  },
  {
   "cell_type": "markdown",
   "metadata": {},
   "source": [
    "## Funções"
   ]
  },
  {
   "cell_type": "code",
   "execution_count": 2,
   "metadata": {},
   "outputs": [],
   "source": [
    "def detectHarrisKeypoints(image, threshold=0.01, blockSize=2, ksize=3, k=0.04):\n",
    "    # Reading the image and converting the image to B/W \n",
    "    gray_image = cv2.cvtColor(image, cv2.COLOR_BGR2GRAY) \n",
    "    gray_image_f32 = np.float32(gray_image)\n",
    "\n",
    "    # Applying the function \n",
    "    dst = cv2.cornerHarris(gray_image_f32, blockSize, ksize, k) \n",
    "  \n",
    "    # dilate to mark the corners \n",
    "    dst = cv2.dilate(dst, None)\n",
    "    \n",
    "    ret, dst = cv2.threshold(dst,threshold*dst.max(),255,0)\n",
    "    dst = np.uint8(dst)\n",
    "\n",
    "    # find centroids\n",
    "    ret, labels, stats, centroids = cv2.connectedComponentsWithStats(dst)\n",
    "\n",
    "    # define the criteria to stop and refine the corners\n",
    "    criteria = (cv2.TERM_CRITERIA_EPS + cv2.TERM_CRITERIA_MAX_ITER, 100, 0.001)\n",
    "    corners = cv2.cornerSubPix(gray_image_f32,np.float32(centroids),(5,5),(-1,-1),criteria)\n",
    "\n",
    "    # # extract keypoints\n",
    "    # points = np.argwhere(dst > threshold * dst.max())\n",
    "    \n",
    "    keypoints = [cv2.KeyPoint(float(x[0]), float(x[1]), 13) for x in corners]\n",
    "\n",
    "    # draw keypoints\n",
    "    # image[dst > threshold * dst.max()] = [0, 255, 0]\n",
    "    kp_image = cv2.drawKeypoints(image, keypoints, None, color=(255, 0, 0), flags=0)\n",
    "\n",
    "    return keypoints, kp_image\n"
   ]
  },
  {
   "cell_type": "code",
   "execution_count": 214,
   "metadata": {},
   "outputs": [],
   "source": [
    "def detectSIFTKeypoints(image, nfeatures=0, nOctaveLayers=3, contrastThreshold=0.04, edgeThreshold=10, sigma=1.6, enable_precise_upscale=False):\n",
    "    # Reading the image and converting the image to B/W \n",
    "    gray_image = cv2.cvtColor(image, cv2.COLOR_BGR2GRAY) \n",
    "  \n",
    "    # Applying the function \n",
    "    sift = cv2.SIFT_create(nfeatures, nOctaveLayers, contrastThreshold, edgeThreshold, sigma, enable_precise_upscale) \n",
    "    kp, des = sift.detectAndCompute(gray_image, None)\n",
    "    not_dup_kp = {pt.pt: pt for pt in kp}\n",
    "    kp_ = list(not_dup_kp.values())\n",
    "    # Applying the function \n",
    "    kp_image = cv2.drawKeypoints(image, kp, None, color=(0, 255, 0), flags=0)\n",
    "\n",
    "    return kp_, kp_image "
   ]
  },
  {
   "cell_type": "code",
   "execution_count": 206,
   "metadata": {},
   "outputs": [],
   "source": [
    "def detectStarKeypoints(image, max_size = 41, response_threshold = 30, line_threshold_projected = 10,\n",
    "                        line_threshold_binarized = 8, suppress_nonmax_size = 5):\n",
    "    # Reading the image and converting the image to B/W \n",
    "    gray_image = cv2.cvtColor(image, cv2.COLOR_BGR2GRAY) \n",
    "  \n",
    "    # Applying the function \n",
    "    star = cv2.xfeatures2d.StarDetector_create(maxSize= max_size, \n",
    "                                        responseThreshold = response_threshold,\n",
    "                                        lineThresholdProjected = line_threshold_projected,\n",
    "                                        lineThresholdBinarized = line_threshold_binarized,\n",
    "                                        suppressNonmaxSize = suppress_nonmax_size)\n",
    "    kp = star.detect(gray_image, None)\n",
    "\n",
    "    # Applying the function \n",
    "    kp_image = cv2.drawKeypoints(image, kp, None, color=(0, 0, 255), flags=0) \n",
    "\n",
    "    return kp, kp_image "
   ]
  },
  {
   "cell_type": "markdown",
   "metadata": {},
   "source": [
    "## Testando parâmetros Harris"
   ]
  },
  {
   "cell_type": "code",
   "execution_count": 354,
   "metadata": {},
   "outputs": [
    {
     "name": "stdout",
     "output_type": "stream",
     "text": [
      "25\n"
     ]
    },
    {
     "data": {
      "text/plain": [
       "-1"
      ]
     },
     "execution_count": 354,
     "metadata": {},
     "output_type": "execute_result"
    }
   ],
   "source": [
    "image = cv2.imread('../data/imgs/dsc07631.jpg')\n",
    "\n",
    "image = cv2.cvtColor(image, cv2.COLOR_RGB2Lab)\n",
    "clahe = cv2.createCLAHE(clipLimit=2.0, tileGridSize=(8,8))\n",
    "image[:,:,0] = clahe.apply(image[:,:,0])\n",
    "image = cv2.cvtColor(image, cv2.COLOR_Lab2RGB)\n",
    "\n",
    "image = cv2.resize(image, (640,480))\n",
    "\n",
    "kp, kp_image = detectHarrisKeypoints(image, threshold=0.44, blockSize=2, ksize=3, k=0.04)\n",
    "print(len(kp))\n",
    "cv2.imshow('Harris', kp_image) \n",
    "cv2.waitKey() "
   ]
  },
  {
   "cell_type": "markdown",
   "metadata": {},
   "source": [
    "## Testando parâmetros SIFT"
   ]
  },
  {
   "cell_type": "code",
   "execution_count": 303,
   "metadata": {},
   "outputs": [
    {
     "name": "stdout",
     "output_type": "stream",
     "text": [
      "100\n"
     ]
    },
    {
     "data": {
      "text/plain": [
       "-1"
      ]
     },
     "execution_count": 303,
     "metadata": {},
     "output_type": "execute_result"
    }
   ],
   "source": [
    "image = cv2.imread('../data/imgs/dsc07631.jpg')\n",
    "image = cv2.resize(image, (640,480))\n",
    "kp, kp_image = detectSIFTKeypoints(image, \n",
    "                                   nfeatures=143,\n",
    "                                   nOctaveLayers=10,\n",
    "                                   contrastThreshold=0.01,\n",
    "                                   edgeThreshold=3,\n",
    "                                   sigma=3.2, \n",
    "                                   enable_precise_upscale=True)\n",
    "# print(len(set([p.pt for p in kp])))\n",
    "print(len(kp))\n",
    "cv2.imshow('Harris', kp_image) \n",
    "cv2.waitKey() "
   ]
  },
  {
   "cell_type": "markdown",
   "metadata": {},
   "source": [
    "## Testando parâmetros STAR"
   ]
  },
  {
   "cell_type": "code",
   "execution_count": 217,
   "metadata": {},
   "outputs": [
    {
     "name": "stdout",
     "output_type": "stream",
     "text": [
      "26\n"
     ]
    },
    {
     "data": {
      "text/plain": [
       "-1"
      ]
     },
     "execution_count": 217,
     "metadata": {},
     "output_type": "execute_result"
    }
   ],
   "source": [
    "image = cv2.imread('../data/imgs/dsc07631.jpg')\n",
    "kp, kp_image = detectStarKeypoints(image, \n",
    "                                   max_size = 10, \n",
    "                                   response_threshold = 70, \n",
    "                                   line_threshold_projected = 10,\n",
    "                                   line_threshold_binarized = 10, \n",
    "                                   suppress_nonmax_size = 10)\n",
    "# print(len(set([p.pt for p in kp])))\n",
    "print(len(kp))\n",
    "cv2.imshow('Harris', kp_image) \n",
    "cv2.waitKey() "
   ]
  },
  {
   "cell_type": "markdown",
   "metadata": {},
   "source": [
    "## Comparando os pontos dos detectores"
   ]
  },
  {
   "cell_type": "markdown",
   "metadata": {},
   "source": [
    "### Funções"
   ]
  },
  {
   "cell_type": "code",
   "execution_count": 271,
   "metadata": {},
   "outputs": [],
   "source": [
    "from sklearn.metrics import pairwise_distances_argmin_min\n",
    "\n",
    "def computeDistacesKeypoints(pts1, pts2, threshold=1):\n",
    "    array_pts1 = np.asarray(pts1)\n",
    "    array_pts2 = np.asarray(pts2)\n",
    "\n",
    "    if array_pts1.shape[0] > 0 and array_pts2.shape[0] > 0:\n",
    "        dists = pairwise_distances_argmin_min(array_pts1, array_pts2)\n",
    "        matches_pts1 = [pts1[i] for i, (pt, dist) in enumerate(zip(dists[0], dists[1])) if dist <= threshold]\n",
    "        matches_pts2 = [pts2[pt] for pt, dist in zip(dists[0], dists[1]) if dist <= threshold]\n",
    "    else:\n",
    "        matches_pts1 = []\n",
    "        matches_pts2 = []\n",
    "        \n",
    "    return matches_pts1, matches_pts2"
   ]
  },
  {
   "cell_type": "code",
   "execution_count": 314,
   "metadata": {},
   "outputs": [],
   "source": [
    "def return_detector_func(algol):\n",
    "    if algol == 'harris':\n",
    "        func = detectHarrisKeypoints\n",
    "    elif algol == 'sift':\n",
    "        func = detectSIFTKeypoints\n",
    "    else:\n",
    "        func = detectStarKeypoints\n",
    "    \n",
    "    return func\n",
    "\n",
    "\n",
    "def compare_detectors_keypoints(image, algol_1, algol_2, params_algol_1, params_algol_2, threshold):\n",
    "    detector_1 = return_detector_func(algol_1)\n",
    "    detector_2 = return_detector_func(algol_2)\n",
    "\n",
    "    kp1, _ = detector_1(image, **params_algol_1)\n",
    "    kp2, _ = detector_2(image, **params_algol_2)\n",
    "\n",
    "    kp1 = [(kp.pt[0], kp.pt[1]) for kp in kp1]\n",
    "    kp2 = [(kp.pt[0], kp.pt[1]) for kp in kp2]\n",
    "\n",
    "    matches_pts1, matches_pts2 = computeDistacesKeypoints(kp1, kp2, threshold=threshold)\n",
    "    mismatches_pts1 = [pt for pt in kp1 if pt not in matches_pts1]\n",
    "    mismatches_pts2 = [pt for pt in kp2 if pt not in matches_pts2]\n",
    "\n",
    "    matches_kp1 = [cv2.KeyPoint(float(x[0]), float(x[1]), 13) for x in matches_pts1]\n",
    "    matches_kp2 = [cv2.KeyPoint(float(x[0]), float(x[1]), 13) for x in matches_pts2]\n",
    "\n",
    "    mismatches_kp1 = [cv2.KeyPoint(float(x[0]), float(x[1]), 13) for x in mismatches_pts1]\n",
    "    mismatches_kp2 = [cv2.KeyPoint(float(x[0]), float(x[1]), 13) for x in mismatches_pts2]\n",
    "\n",
    "    kp_image = cv2.drawKeypoints(image, matches_kp1, None, color=(0, 255, 0), flags=0)\n",
    "    kp_image = cv2.drawKeypoints(kp_image, matches_kp2, None, color=(0, 255, 0), flags=0)\n",
    "    kp_image = cv2.drawKeypoints(kp_image, mismatches_kp1, None, color=(255, 0, 0), flags=0)\n",
    "    kp_image = cv2.drawKeypoints(kp_image, mismatches_kp2, None, color=(0, 0, 255), flags=0)\n",
    "\n",
    "    return kp_image, matches_kp1, matches_kp2, kp1, kp2 \n",
    "\n",
    "def return_params_combination(combination, params_harris, params_sift, params_star, pos):\n",
    "    if combination == 'harris':\n",
    "        params = {key: value[pos] for key, value in zip(params_harris.keys(), params_harris.values())}\n",
    "    elif combination == 'sift':\n",
    "        params = {key: value[pos] for key, value in zip(params_sift.keys(), params_sift.values())}\n",
    "    else:\n",
    "        params = {key: value[pos] for key, value in zip(params_star.keys(), params_star.values())}\n",
    "    \n",
    "    return params\n",
    "\n",
    "\n",
    "def run_all_tests(image, image_name, params_harris, params_sift, params_star, thresholds):\n",
    "    n_pontos = ['25', '50', '100']\n",
    "    algol_combinations = [('harris', 'sift'), ('harris', 'star'), ('sift', 'star')]\n",
    "    df = pd.DataFrame(columns=['combination', 'qtd_kp1', 'qtd_kp2', 'qtd_matches_kp1',\n",
    "                                'qtd_matches_kp2', 'precision_1', 'precision_2'])\n",
    "    \n",
    "    for comb in algol_combinations:\n",
    "        for i,n in enumerate(n_pontos):\n",
    "            image_ = image.copy()\n",
    "            params1 = return_params_combination(comb[0], params_harris, params_sift, params_star, i)\n",
    "            params2 = return_params_combination(comb[1], params_harris, params_sift, params_star, i)\n",
    "            \n",
    "            result = compare_detectors_keypoints(image_, comb[0], comb[1], params1, params2, thresholds[i])\n",
    "            \n",
    "            kp_image, matches_kp1, matches_kp2, kp1, kp2 = result\n",
    "\n",
    "\n",
    "            df.loc[len(df.index)] = [comb, len(kp1), len(kp2), len(matches_kp1), len(matches_kp2), len(matches_kp1) / len(kp1),\n",
    "                               len(matches_kp2) / len(kp2) ]\n",
    "\n",
    "            path_img = f'../results/first_part_detectors/{image_name}_matches_{comb[0]}_{comb[1]}_{n}_pontos.jpg'\n",
    "            cv2.imwrite(path_img, kp_image)\n",
    "\n",
    "    return df"
   ]
  },
  {
   "cell_type": "markdown",
   "metadata": {},
   "source": [
    "### dsc07631.jpg"
   ]
  },
  {
   "cell_type": "code",
   "execution_count": 315,
   "metadata": {},
   "outputs": [],
   "source": [
    "params_harris = {\n",
    "    'threshold' : [0.27152, 0.078, 0.053],\n",
    "    'blockSize' : [2, 5, 3],\n",
    "    'ksize' : [3, 5, 9],\n",
    "    'k' : [0.04, 0.04, 0.06]\n",
    "}\n",
    "\n",
    "params_sift = {\n",
    "    'nfeatures': [34, 69, 143],\n",
    "    'nOctaveLayers' : [3, 10, 10],\n",
    "    'contrastThreshold' : [0.15, 0.05, 0.01],\n",
    "    'edgeThreshold' : [2, 10, 3],\n",
    "    'sigma' : [1.6, 3.2, 3.2],\n",
    "    'enable_precise_upscale': [True, True, True]\n",
    "}\n",
    "\n",
    "params_star = {\n",
    "    'max_size': [10, 16, 10],\n",
    "    'response_threshold': [70, 55, 30],\n",
    "    'line_threshold_projected': [10, 5, 5],\n",
    "    'line_threshold_binarized': [10, 5, 5],\n",
    "    'suppress_nonmax_size': [10, 16, 10]\n",
    "}\n",
    "\n",
    "thresholds = [5,5,5]"
   ]
  },
  {
   "cell_type": "code",
   "execution_count": 355,
   "metadata": {},
   "outputs": [],
   "source": [
    "image = cv2.imread('../data/imgs/dsc07631.jpg')\n",
    "# img = cv2.cvtColor(image, cv2.COLOR_RGB2Lab)\n",
    "# clahe = cv2.createCLAHE(clipLimit=2.0, tileGridSize=(8,8))\n",
    "# img[:,:,0] = clahe.apply(img[:,:,0])\n",
    "# img = cv2.cvtColor(img, cv2.COLOR_Lab2RGB)\n",
    "\n",
    "image = cv2.resize(image, (640,480))"
   ]
  },
  {
   "cell_type": "code",
   "execution_count": 356,
   "metadata": {},
   "outputs": [
    {
     "data": {
      "text/html": [
       "<div>\n",
       "<style scoped>\n",
       "    .dataframe tbody tr th:only-of-type {\n",
       "        vertical-align: middle;\n",
       "    }\n",
       "\n",
       "    .dataframe tbody tr th {\n",
       "        vertical-align: top;\n",
       "    }\n",
       "\n",
       "    .dataframe thead th {\n",
       "        text-align: right;\n",
       "    }\n",
       "</style>\n",
       "<table border=\"1\" class=\"dataframe\">\n",
       "  <thead>\n",
       "    <tr style=\"text-align: right;\">\n",
       "      <th></th>\n",
       "      <th>combination</th>\n",
       "      <th>qtd_kp1</th>\n",
       "      <th>qtd_kp2</th>\n",
       "      <th>qtd_matches_kp1</th>\n",
       "      <th>qtd_matches_kp2</th>\n",
       "      <th>precision_1</th>\n",
       "      <th>precision_2</th>\n",
       "    </tr>\n",
       "  </thead>\n",
       "  <tbody>\n",
       "    <tr>\n",
       "      <th>0</th>\n",
       "      <td>(harris, sift)</td>\n",
       "      <td>25</td>\n",
       "      <td>25</td>\n",
       "      <td>8</td>\n",
       "      <td>8</td>\n",
       "      <td>0.32</td>\n",
       "      <td>0.320000</td>\n",
       "    </tr>\n",
       "    <tr>\n",
       "      <th>1</th>\n",
       "      <td>(harris, sift)</td>\n",
       "      <td>50</td>\n",
       "      <td>50</td>\n",
       "      <td>13</td>\n",
       "      <td>13</td>\n",
       "      <td>0.26</td>\n",
       "      <td>0.260000</td>\n",
       "    </tr>\n",
       "    <tr>\n",
       "      <th>2</th>\n",
       "      <td>(harris, sift)</td>\n",
       "      <td>100</td>\n",
       "      <td>100</td>\n",
       "      <td>22</td>\n",
       "      <td>22</td>\n",
       "      <td>0.22</td>\n",
       "      <td>0.220000</td>\n",
       "    </tr>\n",
       "    <tr>\n",
       "      <th>3</th>\n",
       "      <td>(harris, star)</td>\n",
       "      <td>25</td>\n",
       "      <td>26</td>\n",
       "      <td>5</td>\n",
       "      <td>5</td>\n",
       "      <td>0.20</td>\n",
       "      <td>0.192308</td>\n",
       "    </tr>\n",
       "    <tr>\n",
       "      <th>4</th>\n",
       "      <td>(harris, star)</td>\n",
       "      <td>50</td>\n",
       "      <td>51</td>\n",
       "      <td>15</td>\n",
       "      <td>15</td>\n",
       "      <td>0.30</td>\n",
       "      <td>0.294118</td>\n",
       "    </tr>\n",
       "    <tr>\n",
       "      <th>5</th>\n",
       "      <td>(harris, star)</td>\n",
       "      <td>100</td>\n",
       "      <td>100</td>\n",
       "      <td>26</td>\n",
       "      <td>26</td>\n",
       "      <td>0.26</td>\n",
       "      <td>0.260000</td>\n",
       "    </tr>\n",
       "    <tr>\n",
       "      <th>6</th>\n",
       "      <td>(sift, star)</td>\n",
       "      <td>25</td>\n",
       "      <td>26</td>\n",
       "      <td>10</td>\n",
       "      <td>10</td>\n",
       "      <td>0.40</td>\n",
       "      <td>0.384615</td>\n",
       "    </tr>\n",
       "    <tr>\n",
       "      <th>7</th>\n",
       "      <td>(sift, star)</td>\n",
       "      <td>50</td>\n",
       "      <td>51</td>\n",
       "      <td>23</td>\n",
       "      <td>23</td>\n",
       "      <td>0.46</td>\n",
       "      <td>0.450980</td>\n",
       "    </tr>\n",
       "    <tr>\n",
       "      <th>8</th>\n",
       "      <td>(sift, star)</td>\n",
       "      <td>100</td>\n",
       "      <td>100</td>\n",
       "      <td>36</td>\n",
       "      <td>36</td>\n",
       "      <td>0.36</td>\n",
       "      <td>0.360000</td>\n",
       "    </tr>\n",
       "  </tbody>\n",
       "</table>\n",
       "</div>"
      ],
      "text/plain": [
       "      combination  qtd_kp1  qtd_kp2  qtd_matches_kp1  qtd_matches_kp2  \\\n",
       "0  (harris, sift)       25       25                8                8   \n",
       "1  (harris, sift)       50       50               13               13   \n",
       "2  (harris, sift)      100      100               22               22   \n",
       "3  (harris, star)       25       26                5                5   \n",
       "4  (harris, star)       50       51               15               15   \n",
       "5  (harris, star)      100      100               26               26   \n",
       "6    (sift, star)       25       26               10               10   \n",
       "7    (sift, star)       50       51               23               23   \n",
       "8    (sift, star)      100      100               36               36   \n",
       "\n",
       "   precision_1  precision_2  \n",
       "0         0.32     0.320000  \n",
       "1         0.26     0.260000  \n",
       "2         0.22     0.220000  \n",
       "3         0.20     0.192308  \n",
       "4         0.30     0.294118  \n",
       "5         0.26     0.260000  \n",
       "6         0.40     0.384615  \n",
       "7         0.46     0.450980  \n",
       "8         0.36     0.360000  "
      ]
     },
     "execution_count": 356,
     "metadata": {},
     "output_type": "execute_result"
    }
   ],
   "source": [
    "run_all_tests(image, 'dsc07631', params_harris, params_sift, params_star, thresholds)"
   ]
  },
  {
   "cell_type": "code",
   "execution_count": null,
   "metadata": {},
   "outputs": [],
   "source": []
  }
 ],
 "metadata": {
  "kernelspec": {
   "display_name": "Python 3 (ipykernel)",
   "language": "python",
   "name": "python3"
  },
  "language_info": {
   "codemirror_mode": {
    "name": "ipython",
    "version": 3
   },
   "file_extension": ".py",
   "mimetype": "text/x-python",
   "name": "python",
   "nbconvert_exporter": "python",
   "pygments_lexer": "ipython3",
   "version": "3.9.2"
  }
 },
 "nbformat": 4,
 "nbformat_minor": 2
}
